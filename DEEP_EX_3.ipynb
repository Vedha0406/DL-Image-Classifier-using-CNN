{
  "nbformat": 4,
  "nbformat_minor": 0,
  "metadata": {
    "colab": {
      "provenance": []
    },
    "kernelspec": {
      "name": "python3",
      "display_name": "Python 3"
    },
    "language_info": {
      "name": "python"
    }
  },
  "cells": [
    {
      "cell_type": "code",
      "execution_count": 1,
      "metadata": {
        "id": "5XIAgExbb7zj"
      },
      "outputs": [],
      "source": [
        "import torch\n",
        "import torch.nn as nn\n",
        "import torch.nn.functional as F\n",
        "from torch.utils.data import DataLoader\n",
        "from torchvision import datasets, transforms\n",
        "from torchvision.utils import make_grid\n",
        "\n",
        "import numpy as np\n",
        "import pandas as pd\n",
        "from sklearn.metrics import confusion_matrix\n",
        "import matplotlib.pyplot as plt\n",
        "%matplotlib inline"
      ]
    },
    {
      "cell_type": "code",
      "source": [
        "transform = transforms.ToTensor()"
      ],
      "metadata": {
        "id": "wv3PYrCAcIja"
      },
      "execution_count": 2,
      "outputs": []
    },
    {
      "cell_type": "code",
      "source": [
        "train_data = datasets.MNIST(root='../Data', train=True, download=True, transform=transform)"
      ],
      "metadata": {
        "colab": {
          "base_uri": "https://localhost:8080/"
        },
        "id": "b9IU4PUFcSCf",
        "outputId": "ce598a78-136e-4a4b-fd26-4c8473ab914f"
      },
      "execution_count": 3,
      "outputs": [
        {
          "output_type": "stream",
          "name": "stderr",
          "text": [
            "100%|██████████| 9.91M/9.91M [00:00<00:00, 22.1MB/s]\n",
            "100%|██████████| 28.9k/28.9k [00:00<00:00, 628kB/s]\n",
            "100%|██████████| 1.65M/1.65M [00:00<00:00, 5.68MB/s]\n",
            "100%|██████████| 4.54k/4.54k [00:00<00:00, 6.63MB/s]\n"
          ]
        }
      ]
    },
    {
      "cell_type": "code",
      "source": [
        "test_data = datasets.MNIST(root='../Data', train=False, download=True, transform=transform)"
      ],
      "metadata": {
        "id": "fWQubb4NcT_A"
      },
      "execution_count": 4,
      "outputs": []
    },
    {
      "cell_type": "code",
      "source": [
        "train_loader = DataLoader(train_data, batch_size=10, shuffle=True)\n",
        "test_loader = DataLoader(test_data, batch_size=10, shuffle=False)"
      ],
      "metadata": {
        "id": "i09Sj3QEcXo3"
      },
      "execution_count": 5,
      "outputs": []
    },
    {
      "cell_type": "code",
      "source": [
        "class ConvolutionalNetwork(nn.Module):\n",
        "\n",
        "    def __init__(self):\n",
        "        super().__init__()\n",
        "        self.conv1 = nn.Conv2d(1,6,3,1)\n",
        "        self.conv2 = nn.Conv2d(6,16,3,1)\n",
        "        self.fc1 = nn.Linear(5*5*16,120)\n",
        "        self.fc2 = nn.Linear(120,84)\n",
        "        self.fc3 = nn.Linear(84,10)\n",
        "\n",
        "    def forward(self, X):\n",
        "        X = F.relu(self.conv1(X))\n",
        "        X = F.max_pool2d(X, 2, 2)\n",
        "        X = F.relu(self.conv2(X))\n",
        "        X = F.max_pool2d(X, 2, 2)\n",
        "        X = X.view(-1, 5*5*16)\n",
        "        X = F.relu(self.fc1(X))\n",
        "        X = F.relu(self.fc2(X))\n",
        "        X = self.fc3(X)\n",
        "        return F.log_softmax(X, dim=1)\n",
        ""
      ],
      "metadata": {
        "id": "kyDGazZEciZj"
      },
      "execution_count": 6,
      "outputs": []
    },
    {
      "cell_type": "code",
      "source": [
        "torch.manual_seed(42)\n",
        "model = ConvolutionalNetwork()\n",
        "model"
      ],
      "metadata": {
        "colab": {
          "base_uri": "https://localhost:8080/"
        },
        "id": "RkJ2wtE2dAiD",
        "outputId": "13863f5d-df17-4e31-81f3-2bb01244f1b8"
      },
      "execution_count": 7,
      "outputs": [
        {
          "output_type": "execute_result",
          "data": {
            "text/plain": [
              "ConvolutionalNetwork(\n",
              "  (conv1): Conv2d(1, 6, kernel_size=(3, 3), stride=(1, 1))\n",
              "  (conv2): Conv2d(6, 16, kernel_size=(3, 3), stride=(1, 1))\n",
              "  (fc1): Linear(in_features=400, out_features=120, bias=True)\n",
              "  (fc2): Linear(in_features=120, out_features=84, bias=True)\n",
              "  (fc3): Linear(in_features=84, out_features=10, bias=True)\n",
              ")"
            ]
          },
          "metadata": {},
          "execution_count": 7
        }
      ]
    },
    {
      "cell_type": "code",
      "source": [
        "criterion = nn.CrossEntropyLoss()\n",
        "optimizer = torch.optim.Adam(model.parameters(), lr=0.001)"
      ],
      "metadata": {
        "id": "5Y5IK1uadDB1"
      },
      "execution_count": 8,
      "outputs": []
    },
    {
      "cell_type": "code",
      "source": [
        "import time\n",
        "start_time = time.time()\n",
        "\n",
        "# Variables ( Trackers)\n",
        "epochs = 5\n",
        "train_losses = []\n",
        "test_losses = []\n",
        "train_correct = []\n",
        "test_correct = []\n",
        "\n",
        "# for loop epochs\n",
        "for i in range(epochs):\n",
        "\n",
        "    trn_corr = 0\n",
        "    tst_corr = 0\n",
        "\n",
        "\n",
        "    # Run the training batches\n",
        "    for b, (X_train, y_train) in enumerate(train_loader):\n",
        "        b+=1\n",
        "\n",
        "        # Apply the model\n",
        "        y_pred = model(X_train)  # we not flatten X-train here\n",
        "        loss = criterion(y_pred, y_train)\n",
        "\n",
        "\n",
        "        predicted = torch.max(y_pred.data, 1)[1]\n",
        "        batch_corr = (predicted == y_train).sum()  # Trure 1 / False 0 sum()\n",
        "        trn_corr += batch_corr\n",
        "\n",
        "        # Update parameters\n",
        "        optimizer.zero_grad()\n",
        "        loss.backward()\n",
        "        optimizer.step()\n",
        "\n",
        "        # Print interim results\n",
        "        if b%600 == 0:\n",
        "            print(f'epoch: {i}  batch: {b} loss: {loss.item()}')\n",
        "\n",
        "    train_losses.append(loss)\n",
        "    train_correct.append(trn_corr)\n",
        "\n",
        "    # Run the testing batches\n",
        "    with torch.no_grad():\n",
        "        for b, (X_test, y_test) in enumerate(test_loader):\n",
        "\n",
        "            # Apply the model\n",
        "            y_val = model(X_test)\n",
        "\n",
        "            # Tally the number of correct predictions\n",
        "            predicted = torch.max(y_val.data, 1)[1]\n",
        "            tst_corr += (predicted == y_test).sum()\n",
        "\n",
        "    loss = criterion(y_val, y_test)\n",
        "    test_losses.append(loss)\n",
        "    test_correct.append(tst_corr)\n",
        "\n",
        "current_time = time.time()\n",
        "total = current_time - start_time\n",
        "print(f'Training took {total/60} minutes')"
      ],
      "metadata": {
        "colab": {
          "base_uri": "https://localhost:8080/"
        },
        "id": "-SNBLzpCdGgQ",
        "outputId": "8396949e-e0f7-4a02-b67d-dd4e900818b8"
      },
      "execution_count": 10,
      "outputs": [
        {
          "output_type": "stream",
          "name": "stdout",
          "text": [
            "epoch: 0  batch: 600 loss: 0.23860988020896912\n",
            "epoch: 0  batch: 1200 loss: 0.004792394582182169\n",
            "epoch: 0  batch: 1800 loss: 0.005318176932632923\n",
            "epoch: 0  batch: 2400 loss: 0.3461626172065735\n",
            "epoch: 0  batch: 3000 loss: 0.0037754434160888195\n",
            "epoch: 0  batch: 3600 loss: 0.24045653641223907\n",
            "epoch: 0  batch: 4200 loss: 0.008099818602204323\n",
            "epoch: 0  batch: 4800 loss: 0.02916203998029232\n",
            "epoch: 0  batch: 5400 loss: 0.006552389357239008\n",
            "epoch: 0  batch: 6000 loss: 0.00937607605010271\n",
            "epoch: 1  batch: 600 loss: 0.008436213247478008\n",
            "epoch: 1  batch: 1200 loss: 0.0018524018814787269\n",
            "epoch: 1  batch: 1800 loss: 6.156360177556053e-05\n",
            "epoch: 1  batch: 2400 loss: 0.00731439795345068\n",
            "epoch: 1  batch: 3000 loss: 0.012101428583264351\n",
            "epoch: 1  batch: 3600 loss: 0.014738403260707855\n",
            "epoch: 1  batch: 4200 loss: 0.0006272239261306822\n",
            "epoch: 1  batch: 4800 loss: 0.04723648354411125\n",
            "epoch: 1  batch: 5400 loss: 0.0008335281163454056\n",
            "epoch: 1  batch: 6000 loss: 0.012452615424990654\n",
            "epoch: 2  batch: 600 loss: 0.00014484592247754335\n",
            "epoch: 2  batch: 1200 loss: 0.0021729711443185806\n",
            "epoch: 2  batch: 1800 loss: 0.0040053315460681915\n",
            "epoch: 2  batch: 2400 loss: 0.0005970029160380363\n",
            "epoch: 2  batch: 3000 loss: 0.002629450988024473\n",
            "epoch: 2  batch: 3600 loss: 0.2877020537853241\n",
            "epoch: 2  batch: 4200 loss: 0.0006463582976721227\n",
            "epoch: 2  batch: 4800 loss: 0.00038675082032568753\n",
            "epoch: 2  batch: 5400 loss: 0.010877178981900215\n",
            "epoch: 2  batch: 6000 loss: 0.004111220128834248\n",
            "epoch: 3  batch: 600 loss: 0.0007290377980098128\n",
            "epoch: 3  batch: 1200 loss: 0.0012593340361490846\n",
            "epoch: 3  batch: 1800 loss: 0.14724943041801453\n",
            "epoch: 3  batch: 2400 loss: 0.003088046330958605\n",
            "epoch: 3  batch: 3000 loss: 0.01974629983305931\n",
            "epoch: 3  batch: 3600 loss: 0.00027465750463306904\n",
            "epoch: 3  batch: 4200 loss: 0.010704120621085167\n",
            "epoch: 3  batch: 4800 loss: 0.0023283574264496565\n",
            "epoch: 3  batch: 5400 loss: 0.0010202799458056688\n",
            "epoch: 3  batch: 6000 loss: 0.0005449216114357114\n",
            "epoch: 4  batch: 600 loss: 0.0013077198527753353\n",
            "epoch: 4  batch: 1200 loss: 0.38149458169937134\n",
            "epoch: 4  batch: 1800 loss: 0.0013197847874835134\n",
            "epoch: 4  batch: 2400 loss: 0.01156063936650753\n",
            "epoch: 4  batch: 3000 loss: 0.03076617792248726\n",
            "epoch: 4  batch: 3600 loss: 0.0003822484868578613\n",
            "epoch: 4  batch: 4200 loss: 0.0836615115404129\n",
            "epoch: 4  batch: 4800 loss: 0.0025940402410924435\n",
            "epoch: 4  batch: 5400 loss: 0.00032875846954993904\n",
            "epoch: 4  batch: 6000 loss: 0.0002073559444397688\n",
            "Training took 3.54745983282725 minutes\n"
          ]
        }
      ]
    },
    {
      "cell_type": "code",
      "source": [
        "train_losses = [t.detach().numpy() for t in train_losses]\n",
        "test_losses = [t.detach().numpy() for t in test_losses]\n",
        "\n",
        "plt.plot(train_losses, label='training loss')\n",
        "plt.plot(test_losses, label='validation loss')\n",
        "plt.title('Loss at the end of each epoch')\n",
        "plt.legend();\n",
        "plt.show()"
      ],
      "metadata": {
        "colab": {
          "base_uri": "https://localhost:8080/",
          "height": 452
        },
        "id": "yMClFh1OdQA7",
        "outputId": "ac9be020-07e7-4c0e-eb7c-c5414cb76167"
      },
      "execution_count": 11,
      "outputs": [
        {
          "output_type": "display_data",
          "data": {
            "text/plain": [
              "<Figure size 640x480 with 1 Axes>"
            ],
            "image/png": "[encoded data removed]"
          },
          "metadata": {}
        }
      ]
    },
    {
      "cell_type": "code",
      "source": [
        "plt.plot([t/600 for t in train_correct], label='training accuracy')\n",
        "plt.plot([t/100 for t in test_correct], label='validation accuracy')\n",
        "plt.title('Accuracy at the end of each epoch')\n",
        "plt.legend();\n",
        "plt.show()"
      ],
      "metadata": {
        "colab": {
          "base_uri": "https://localhost:8080/",
          "height": 452
        },
        "id": "zMPg4JADhDAy",
        "outputId": "59482222-3bc1-480d-8c56-4d457260480a"
      },
      "execution_count": 12,
      "outputs": [
        {
          "output_type": "display_data",
          "data": {
            "text/plain": [
              "<Figure size 640x480 with 1 Axes>"
            ],
            "image/png": "[encoded data removed]"
          },
          "metadata": {}
        }
      ]
    },
    {
      "cell_type": "code",
      "source": [
        "test_load_all = DataLoader(test_data, batch_size=10000, shuffle=False)"
      ],
      "metadata": {
        "id": "shHcCEELhFqX"
      },
      "execution_count": 13,
      "outputs": []
    },
    {
      "cell_type": "code",
      "source": [
        "with torch.no_grad():\n",
        "    correct = 0\n",
        "    for X_test, y_test in test_load_all:\n",
        "        y_val = model(X_test)  # we don't flatten the data this time\n",
        "        predicted = torch.max(y_val,1)[1]\n",
        "        correct += (predicted == y_test).sum()\n"
      ],
      "metadata": {
        "id": "TWpth7gnhTC8"
      },
      "execution_count": 14,
      "outputs": []
    },
    {
      "cell_type": "code",
      "source": [
        "correct.item()"
      ],
      "metadata": {
        "colab": {
          "base_uri": "https://localhost:8080/"
        },
        "id": "N-RLZpIAhU1M",
        "outputId": "8a45411a-16b7-4bf0-bf80-11f3521e3644"
      },
      "execution_count": 15,
      "outputs": [
        {
          "output_type": "execute_result",
          "data": {
            "text/plain": [
              "9885"
            ]
          },
          "metadata": {},
          "execution_count": 15
        }
      ]
    },
    {
      "cell_type": "code",
      "source": [
        "correct.item()/len(test_data)"
      ],
      "metadata": {
        "colab": {
          "base_uri": "https://localhost:8080/"
        },
        "id": "RRWWnxDahWh9",
        "outputId": "8250c8fc-e0d1-4420-a20e-52fce6d108e1"
      },
      "execution_count": 16,
      "outputs": [
        {
          "output_type": "execute_result",
          "data": {
            "text/plain": [
              "0.9885"
            ]
          },
          "metadata": {},
          "execution_count": 16
        }
      ]
    },
    {
      "cell_type": "code",
      "source": [
        "np.set_printoptions(formatter=dict(int=lambda x: f'{x:4}'))\n",
        "print(np.arange(10).reshape(1,10))\n",
        "print()\n",
        "\n",
        "# print the confusion matrix\n",
        "print(confusion_matrix(predicted.view(-1), y_test.view(-1)))"
      ],
      "metadata": {
        "colab": {
          "base_uri": "https://localhost:8080/"
        },
        "id": "_1mQhCPGhYmG",
        "outputId": "602e077d-6dd6-4a5e-c028-7a2abd872a3c"
      },
      "execution_count": 17,
      "outputs": [
        {
          "output_type": "stream",
          "name": "stdout",
          "text": [
            "[[   0    1    2    3    4    5    6    7    8    9]]\n",
            "\n",
            "[[ 966    0    2    0    0    1    2    0    1    0]\n",
            " [   1 1128    0    1    0    0    1    3    0    2]\n",
            " [   2    1 1013    0    0    0    0    2    0    1]\n",
            " [   0    1    0 1002    0    3    0    2    1    2]\n",
            " [   0    0    1    0  974    0    1    0    1    2]\n",
            " [   1    1    0    1    0  884    5    0    2    6]\n",
            " [   6    3    0    0    4    1  949    0    0    0]\n",
            " [   1    0   14    4    0    1    0 1017    3    3]\n",
            " [   1    1    2    1    0    0    0    1  961    2]\n",
            " [   2    0    0    1    4    2    0    3    5  991]]\n"
          ]
        }
      ]
    },
    {
      "cell_type": "code",
      "source": [
        "plt.imshow(test_data[2019][0].reshape(28,28))\n",
        "plt.show()"
      ],
      "metadata": {
        "colab": {
          "base_uri": "https://localhost:8080/",
          "height": 430
        },
        "id": "feqibsOAhbWV",
        "outputId": "bf40bb15-2fae-4ab6-9a3e-bb83170398fc"
      },
      "execution_count": 18,
      "outputs": [
        {
          "output_type": "display_data",
          "data": {
            "text/plain": [
              "<Figure size 640x480 with 1 Axes>"
            ],
            "image/png": "[encoded data removed]"
          },
          "metadata": {}
        }
      ]
    },
    {
      "cell_type": "code",
      "source": [
        "model.eval()\n",
        "with torch.no_grad():\n",
        "    new_prediction = model(test_data[2019][0].view(1,1,28,28))"
      ],
      "metadata": {
        "id": "Ml-c-621hgW5"
      },
      "execution_count": 19,
      "outputs": []
    },
    {
      "cell_type": "code",
      "source": [
        "new_prediction.argmax()"
      ],
      "metadata": {
        "colab": {
          "base_uri": "https://localhost:8080/"
        },
        "id": "gTywnWZphirw",
        "outputId": "b48d2beb-d539-4aee-e93b-935ff861e363"
      },
      "execution_count": 20,
      "outputs": [
        {
          "output_type": "execute_result",
          "data": {
            "text/plain": [
              "tensor(9)"
            ]
          },
          "metadata": {},
          "execution_count": 20
        }
      ]
    },
    {
      "cell_type": "code",
      "source": [
        "plt.imshow(test_data[333][0].reshape(28,28))\n",
        "plt.show()"
      ],
      "metadata": {
        "colab": {
          "base_uri": "https://localhost:8080/",
          "height": 430
        },
        "id": "F8GGLm0nhksr",
        "outputId": "95ce305b-9591-41f3-8c57-616b21f7f03b"
      },
      "execution_count": 21,
      "outputs": [
        {
          "output_type": "display_data",
          "data": {
            "text/plain": [
              "<Figure size 640x480 with 1 Axes>"
            ],
            "image/png": "[encoded data removed]"
          },
          "metadata": {}
        }
      ]
    },
    {
      "cell_type": "code",
      "source": [
        "model.eval()\n",
        "with torch.no_grad():\n",
        "    new_prediction = model(test_data[333][0].view(1,1,28,28))"
      ],
      "metadata": {
        "id": "gNqyhRwthne6"
      },
      "execution_count": 22,
      "outputs": []
    },
    {
      "cell_type": "code",
      "source": [
        "new_prediction.argmax()"
      ],
      "metadata": {
        "colab": {
          "base_uri": "https://localhost:8080/"
        },
        "id": "E_mvuOyZhpi1",
        "outputId": "4e3b876f-eb7c-4788-a561-7d236da317bf"
      },
      "execution_count": 23,
      "outputs": [
        {
          "output_type": "execute_result",
          "data": {
            "text/plain": [
              "tensor(5)"
            ]
          },
          "metadata": {},
          "execution_count": 23
        }
      ]
    },
    {
      "cell_type": "code",
      "source": [
        "test_data[333][1]"
      ],
      "metadata": {
        "colab": {
          "base_uri": "https://localhost:8080/"
        },
        "id": "WtUwb-MShrga",
        "outputId": "053d7641-2757-4e0c-d745-e26b2db40535"
      },
      "execution_count": 24,
      "outputs": [
        {
          "output_type": "execute_result",
          "data": {
            "text/plain": [
              "5"
            ]
          },
          "metadata": {},
          "execution_count": 24
        }
      ]
    },
    {
      "cell_type": "code",
      "source": [],
      "metadata": {
        "id": "E59vdBZohtVR"
      },
      "execution_count": null,
      "outputs": []
    }
  ]
}